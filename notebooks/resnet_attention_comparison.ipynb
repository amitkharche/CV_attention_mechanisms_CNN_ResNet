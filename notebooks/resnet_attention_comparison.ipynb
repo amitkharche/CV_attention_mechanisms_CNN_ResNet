{
 "cells": [
  {
   "cell_type": "markdown",
   "source": [
    "# 📊 ResNet with vs without Attention (SE Block)"
   ]
  },
  {
   "cell_type": "code",
   "source": [
    "!python ../src/train.py"
   ]
  },
  {
   "cell_type": "code",
   "source": [
    "!python ../src/evaluate.py"
   ]
  }
 ],
 "metadata": {
  "kernelspec": {
   "name": "python3",
   "display_name": "Python 3"
  },
  "language_info": {
   "name": "python"
  }
 },
 "nbformat": 4,
 "nbformat_minor": 5
}
