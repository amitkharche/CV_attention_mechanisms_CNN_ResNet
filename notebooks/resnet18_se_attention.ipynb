{
 "cells": [
  {
   "cell_type": "markdown",
   "id": "416a6360",
   "metadata": {},
   "source": [
    "# ResNet18 with Squeeze-and-Excitation Attention (CIFAR-10)"
   ]
  },
  {
   "cell_type": "code",
   "execution_count": null,
   "id": "8b8dfee9",
   "metadata": {},
   "outputs": [],
   "source": [
    "!pip install torch torchvision"
   ]
  },
  {
   "cell_type": "code",
   "execution_count": null,
   "id": "c711f6a4",
   "metadata": {},
   "outputs": [],
   "source": [
    "\n",
    "import torch\n",
    "import torch.nn as nn\n",
    "import torch.optim as optim\n",
    "import torchvision\n",
    "import torchvision.transforms as transforms\n",
    "from torch.utils.data import DataLoader\n",
    "import matplotlib.pyplot as plt\n"
   ]
  },
  {
   "cell_type": "markdown",
   "id": "00b0bb91",
   "metadata": {},
   "source": [
    "## Squeeze-and-Excitation Block"
   ]
  },
  {
   "cell_type": "code",
   "execution_count": null,
   "id": "f90e1566",
   "metadata": {},
   "outputs": [],
   "source": [
    "\n",
    "class SEBlock(nn.Module):\n",
    "    def __init__(self, channel, reduction=16):\n",
    "        super(SEBlock, self).__init__()\n",
    "        self.avg_pool = nn.AdaptiveAvgPool2d(1)\n",
    "        self.fc = nn.Sequential(\n",
    "            nn.Linear(channel, channel // reduction, bias=False),\n",
    "            nn.ReLU(inplace=True),\n",
    "            nn.Linear(channel // reduction, channel, bias=False),\n",
    "            nn.Sigmoid()\n",
    "        )\n",
    "\n",
    "    def forward(self, x):\n",
    "        b, c, _, _ = x.size()\n",
    "        y = self.avg_pool(x).view(b, c)\n",
    "        y = self.fc(y).view(b, c, 1, 1)\n",
    "        return x * y.expand_as(x)\n"
   ]
  },
  {
   "cell_type": "markdown",
   "id": "dcbd8f32",
   "metadata": {},
   "source": [
    "## ResNet Basic Block with optional SE Attention"
   ]
  },
  {
   "cell_type": "code",
   "execution_count": null,
   "id": "81de6976",
   "metadata": {},
   "outputs": [],
   "source": [
    "\n",
    "class BasicBlock(nn.Module):\n",
    "    def __init__(self, in_channels, out_channels, stride=1, use_se=False):\n",
    "        super(BasicBlock, self).__init__()\n",
    "        self.use_se = use_se\n",
    "        self.conv1 = nn.Conv2d(in_channels, out_channels, kernel_size=3, stride=stride, padding=1, bias=False)\n",
    "        self.bn1 = nn.BatchNorm2d(out_channels)\n",
    "        self.relu = nn.ReLU(inplace=True)\n",
    "        self.conv2 = nn.Conv2d(out_channels, out_channels, kernel_size=3, stride=1, padding=1, bias=False)\n",
    "        self.bn2 = nn.BatchNorm2d(out_channels)\n",
    "\n",
    "        self.downsample = None\n",
    "        if stride != 1 or in_channels != out_channels:\n",
    "            self.downsample = nn.Sequential(\n",
    "                nn.Conv2d(in_channels, out_channels, kernel_size=1, stride=stride, bias=False),\n",
    "                nn.BatchNorm2d(out_channels)\n",
    "            )\n",
    "\n",
    "        if use_se:\n",
    "            self.se = SEBlock(out_channels)\n",
    "\n",
    "    def forward(self, x):\n",
    "        identity = x\n",
    "        out = self.relu(self.bn1(self.conv1(x)))\n",
    "        out = self.bn2(self.conv2(out))\n",
    "        if self.use_se:\n",
    "            out = self.se(out)\n",
    "        if self.downsample:\n",
    "            identity = self.downsample(x)\n",
    "        out += identity\n",
    "        out = self.relu(out)\n",
    "        return out\n"
   ]
  },
  {
   "cell_type": "markdown",
   "id": "dd6e5485",
   "metadata": {},
   "source": [
    "## ResNet18 Model Definition"
   ]
  },
  {
   "cell_type": "code",
   "execution_count": null,
   "id": "78be290b",
   "metadata": {},
   "outputs": [],
   "source": [
    "\n",
    "class ResNet18(nn.Module):\n",
    "    def __init__(self, num_classes=10, use_se=False):\n",
    "        super(ResNet18, self).__init__()\n",
    "        self.in_channels = 64\n",
    "        self.conv1 = nn.Conv2d(3, 64, kernel_size=3, stride=1, padding=1, bias=False)\n",
    "        self.bn1 = nn.BatchNorm2d(64)\n",
    "        self.relu = nn.ReLU(inplace=True)\n",
    "\n",
    "        self.layer1 = self._make_layer(64, 2, stride=1, use_se=use_se)\n",
    "        self.layer2 = self._make_layer(128, 2, stride=2, use_se=use_se)\n",
    "        self.layer3 = self._make_layer(256, 2, stride=2, use_se=use_se)\n",
    "        self.layer4 = self._make_layer(512, 2, stride=2, use_se=use_se)\n",
    "\n",
    "        self.avgpool = nn.AdaptiveAvgPool2d((1, 1))\n",
    "        self.fc = nn.Linear(512, num_classes)\n",
    "\n",
    "    def _make_layer(self, out_channels, blocks, stride, use_se):\n",
    "        layers = [BasicBlock(self.in_channels, out_channels, stride, use_se)]\n",
    "        self.in_channels = out_channels\n",
    "        for _ in range(1, blocks):\n",
    "            layers.append(BasicBlock(out_channels, out_channels, 1, use_se))\n",
    "        return nn.Sequential(*layers)\n",
    "\n",
    "    def forward(self, x):\n",
    "        x = self.relu(self.bn1(self.conv1(x)))\n",
    "        x = self.layer1(x)\n",
    "        x = self.layer2(x)\n",
    "        x = self.layer3(x)\n",
    "        x = self.layer4(x)\n",
    "        x = self.avgpool(x)\n",
    "        x = torch.flatten(x, 1)\n",
    "        x = self.fc(x)\n",
    "        return x\n"
   ]
  },
  {
   "cell_type": "markdown",
   "id": "7e0663b3",
   "metadata": {},
   "source": [
    "## Training Loop"
   ]
  },
  {
   "cell_type": "code",
   "execution_count": null,
   "id": "5f53d27f",
   "metadata": {},
   "outputs": [],
   "source": [
    "\n",
    "def train_model(use_se=False, epochs=5):\n",
    "    transform = transforms.Compose([\n",
    "        transforms.ToTensor(),\n",
    "        transforms.Normalize((0.5,), (0.5,))\n",
    "    ])\n",
    "    trainset = torchvision.datasets.CIFAR10(root='./data', train=True, download=True, transform=transform)\n",
    "    trainloader = DataLoader(trainset, batch_size=64, shuffle=True)\n",
    "\n",
    "    model = ResNet18(use_se=use_se).to(device)\n",
    "    criterion = nn.CrossEntropyLoss()\n",
    "    optimizer = optim.Adam(model.parameters(), lr=0.001)\n",
    "\n",
    "    model.train()\n",
    "    for epoch in range(epochs):\n",
    "        total_loss = 0.0\n",
    "        for images, labels in trainloader:\n",
    "            images, labels = images.to(device), labels.to(device)\n",
    "            optimizer.zero_grad()\n",
    "            outputs = model(images)\n",
    "            loss = criterion(outputs, labels)\n",
    "            loss.backward()\n",
    "            optimizer.step()\n",
    "            total_loss += loss.item()\n",
    "        print(f\"Epoch [{epoch+1}/{epochs}], Loss: {total_loss/len(trainloader):.4f}\")\n",
    "    return model\n"
   ]
  },
  {
   "cell_type": "markdown",
   "id": "16167083",
   "metadata": {},
   "source": [
    "## Evaluation on CIFAR-10 Test Set"
   ]
  },
  {
   "cell_type": "code",
   "execution_count": null,
   "id": "0e732b74",
   "metadata": {},
   "outputs": [],
   "source": [
    "\n",
    "def evaluate_model(model):\n",
    "    transform = transforms.Compose([\n",
    "        transforms.ToTensor(),\n",
    "        transforms.Normalize((0.5,), (0.5,))\n",
    "    ])\n",
    "    testset = torchvision.datasets.CIFAR10(root='./data', train=False, download=True, transform=transform)\n",
    "    testloader = DataLoader(testset, batch_size=64, shuffle=False)\n",
    "    correct = 0\n",
    "    total = 0\n",
    "    model.eval()\n",
    "    with torch.no_grad():\n",
    "        for images, labels in testloader:\n",
    "            images, labels = images.to(device), labels.to(device)\n",
    "            outputs = model(images)\n",
    "            _, predicted = torch.max(outputs.data, 1)\n",
    "            total += labels.size(0)\n",
    "            correct += (predicted == labels).sum().item()\n",
    "    print(f\"Accuracy: {100 * correct / total:.2f}%\")\n"
   ]
  },
  {
   "cell_type": "markdown",
   "id": "89521269",
   "metadata": {},
   "source": [
    "## Run Model with and without SE Block"
   ]
  },
  {
   "cell_type": "code",
   "execution_count": null,
   "id": "cf935b6c",
   "metadata": {},
   "outputs": [],
   "source": [
    "\n",
    "device = torch.device(\"cuda\" if torch.cuda.is_available() else \"cpu\")\n",
    "print(\"Training ResNet18 without SE attention:\")\n",
    "model_plain = train_model(use_se=False)\n",
    "\n",
    "print(\"Evaluating ResNet18 without SE attention:\")\n",
    "evaluate_model(model_plain)\n",
    "\n",
    "print(\"Training ResNet18 with SE attention:\")\n",
    "model_se = train_model(use_se=True)\n",
    "\n",
    "print(\"Evaluating ResNet18 with SE attention:\")\n",
    "evaluate_model(model_se)\n"
   ]
  }
 ],
 "metadata": {},
 "nbformat": 4,
 "nbformat_minor": 5
}